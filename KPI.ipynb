{
 "cells": [
  {
   "cell_type": "markdown",
   "metadata": {
    "colab_type": "text",
    "id": "s0Ej_bXyQvnV"
   },
   "source": [
    "# Compute performance metrics for the given Y and Y_score without sklearn"
   ]
  },
  {
   "cell_type": "code",
   "execution_count": 1,
   "metadata": {
    "colab": {},
    "colab_type": "code",
    "id": "4CHb6NE7Qvnc"
   },
   "outputs": [],
   "source": [
    "import numpy as np\n",
    "import pandas as pd\n",
    "import matplotlib.pyplot as plt \n",
    "# other than these two you should not import any other packages"
   ]
  },
  {
   "cell_type": "markdown",
   "metadata": {
    "colab_type": "text",
    "id": "KbsWXuDaQvnq"
   },
   "source": [
    "<pre>\n",
    "<font color='red'><b>A.</b></font> Compute performance metrics for the given data <strong>5_a.csv</strong>\n",
    "   <b>Note 1:</b> in this data you can see number of positive points >> number of negatives points\n",
    "   <b>Note 2:</b> use pandas or numpy to read the data from <b>5_a.csv</b>\n",
    "   <b>Note 3:</b> you need to derive the class labels from given score</pre> $y^{pred}= \\text{[0 if y_score < 0.5 else 1]}$\n",
    "\n",
    "<pre>\n",
    "<ol>\n",
    "<li> Compute Confusion Matrix </li>\n",
    "<li> Compute F1 Score </li>\n",
    "<li> Compute AUC Score, you need to compute different thresholds and for each threshold compute tpr,fpr and then use               numpy.trapz(tpr_array, fpr_array) <a href='https://stackoverflow.com/q/53603376/4084039'>https://stackoverflow.com/q/53603376/4084039</a>, <a href='https://stackoverflow.com/a/39678975/4084039'>https://stackoverflow.com/a/39678975/4084039</a> Note: it should be numpy.trapz(tpr_array, fpr_array) not numpy.trapz(fpr_array, tpr_array)</li>\n",
    "<li> Compute Accuracy Score </li>\n",
    "</ol>\n",
    "</pre>"
   ]
  },
  {
   "cell_type": "code",
   "execution_count": 2,
   "metadata": {
    "colab": {},
    "colab_type": "code",
    "id": "WaFLW7oBQvnt"
   },
   "outputs": [
    {
     "name": "stdout",
     "output_type": "stream",
     "text": [
      "(10100, 3)\n"
     ]
    }
   ],
   "source": [
    "# write your code here\n",
    "data = pd.read_csv(\"5_a.csv\")\n",
    "\n",
    "data[\"pred\"] = data[\"proba\"].apply(lambda x: 1 if x > 0.5 else 0)\n",
    "print(data.shape)"
   ]
  },
  {
   "cell_type": "code",
   "execution_count": 3,
   "metadata": {},
   "outputs": [],
   "source": [
    "#confussion matrix\n",
    "\n",
    "def confusion_matrix(data):\n",
    "    \n",
    "    #https://stackoverflow.com/a/27475514\n",
    "    true_positive = len(np.where((data[\"y\"] == 1) & (data[\"pred\"] == 1))[0])\n",
    "    true_negative = len(np.where((data[\"y\"] == 0) & (data[\"pred\"] == 0))[0])\n",
    "    false_positive = len(np.where((data[\"y\"] == 0) & (data[\"pred\"] == 1))[0])\n",
    "    false_negative = len(np.where((data[\"y\"] == 1) & (data[\"pred\"] == 0))[0])\n",
    "    \n",
    "    return true_positive, true_negative, false_positive, false_negative\n",
    "\n",
    "def confusion_matrix_print(data):\n",
    "    \n",
    "    true_positive, true_negative, false_positive, false_negative = confusion_matrix(data)\n",
    "    \n",
    "    result_format = {\"n = 10100\": [\"Actual: 0\", \"Actual: 1\"],\n",
    "              \"Predicted: 0\": [\"(tn)\" + str(true_negative),\"(fn)\" + str(false_negative)],\n",
    "              \"Predicted: 1\": [\"(fp)\" + str(false_positive),\"(tp)\" + str(true_positive)]\n",
    "              }\n",
    "    \n",
    "    result = pd.DataFrame(result_format)\n",
    "\n",
    "    print(\"Confusion Matrix:\")\n",
    "    print(result.to_string(index=False))"
   ]
  },
  {
   "cell_type": "code",
   "execution_count": 4,
   "metadata": {},
   "outputs": [],
   "source": [
    "def f1_score(data):\n",
    "    \n",
    "    tp, tn, fp, fn = confusion_matrix(data)\n",
    "    \n",
    "    precision = tp / (tp+fp)\n",
    "    recall = tp / (tp+fn)\n",
    "    \n",
    "    f1 = 2 * ((precision*recall) / (precision+recall))\n",
    "    \n",
    "    return f1"
   ]
  },
  {
   "cell_type": "code",
   "execution_count": 5,
   "metadata": {},
   "outputs": [],
   "source": [
    "def accuracy_score(data):\n",
    "    \n",
    "    tp, tn, fp, fn = confusion_matrix(data)\n",
    "    \n",
    "    acc = (tp+tn) / (tp+tn+fp+fn)\n",
    "    \n",
    "    return acc"
   ]
  },
  {
   "cell_type": "code",
   "execution_count": 6,
   "metadata": {},
   "outputs": [],
   "source": [
    "from tqdm import tqdm\n",
    "\n",
    "def auc_score(data):\n",
    "\n",
    "    unique_prob_score = list(sorted(set(data[\"proba\"]), reverse = True))\n",
    "    tpr_list = []\n",
    "    fpr_list = []\n",
    "\n",
    "    for threshold in tqdm(range(len(unique_prob_score))):\n",
    "\n",
    "        #https://stackoverflow.com/a/10726275\n",
    "        data[\"pred\"] = np.where(data['proba'] <= unique_prob_score[threshold],0 , 1)\n",
    "        tp, tn, fp, fn = confusion_matrix(data)\n",
    "        data.drop(\"pred\", axis=1)\n",
    "        tpr = tp/(tp+fn)\n",
    "        fpr = fp/(fp+tn)\n",
    "        tpr_list.append(tpr)\n",
    "        fpr_list.append(fpr)\n",
    "        \n",
    "    plt.plot(fpr_list, tpr_list)\n",
    "    plt.xlabel(\"FPR\")\n",
    "    plt.ylabel(\"TPR\")\n",
    "    plt.title(\"ROC\")    \n",
    "        \n",
    "    return np.trapz(tpr_list, fpr_list)"
   ]
  },
  {
   "cell_type": "code",
   "execution_count": 7,
   "metadata": {},
   "outputs": [
    {
     "name": "stdout",
     "output_type": "stream",
     "text": [
      "Confusion Matrix:\n",
      "n = 10100 Predicted: 0 Predicted: 1\n",
      "Actual: 0        (tn)0      (fp)100\n",
      "Actual: 1        (fn)0    (tp)10000\n",
      "\n",
      "\n",
      "f1 score: 0.9950248756218906\n",
      "\n",
      "\n",
      "accuracy: 0.9900990099009901\n",
      "\n",
      "\n"
     ]
    },
    {
     "name": "stderr",
     "output_type": "stream",
     "text": [
      "100%|██████████| 10100/10100 [00:26<00:00, 379.43it/s]\n"
     ]
    },
    {
     "name": "stdout",
     "output_type": "stream",
     "text": [
      "auc score: 0.48829900000000004\n"
     ]
    },
    {
     "data": {
      "image/png": "[encoded data removed]",
      "text/plain": [
       "<Figure size 432x288 with 1 Axes>"
      ]
     },
     "metadata": {
      "needs_background": "light"
     },
     "output_type": "display_data"
    }
   ],
   "source": [
    "confusion_matrix_print(data)\n",
    "print(\"\\n\")\n",
    "print(\"f1 score:\",f1_score(data))\n",
    "print(\"\\n\")\n",
    "print(\"accuracy:\",accuracy_score(data))\n",
    "print(\"\\n\")\n",
    "print(\"auc score:\",auc_score(data))\n",
    "\n"
   ]
  },
  {
   "cell_type": "markdown",
   "metadata": {
    "colab_type": "text",
    "id": "V5KZem1BQvn2"
   },
   "source": [
    "<pre>\n",
    "<font color='red'><b>B.</b></font> Compute performance metrics for the given data <strong>5_b.csv</strong>\n",
    "   <b>Note 1:</b> in this data you can see number of positive points << number of negatives points\n",
    "   <b>Note 2:</b> use pandas or numpy to read the data from <b>5_b.csv</b>\n",
    "   <b>Note 3:</b> you need to derive the class labels from given score</pre> $y^{pred}= \\text{[0 if y_score < 0.5 else 1]}$\n",
    "\n",
    "<pre>\n",
    "<ol>\n",
    "<li> Compute Confusion Matrix </li>\n",
    "<li> Compute F1 Score </li>\n",
    "<li> Compute AUC Score, you need to compute different thresholds and for each threshold compute tpr,fpr and then use               numpy.trapz(tpr_array, fpr_array) <a href='https://stackoverflow.com/q/53603376/4084039'>https://stackoverflow.com/q/53603376/4084039</a>, <a href='https://stackoverflow.com/a/39678975/4084039'>https://stackoverflow.com/a/39678975/4084039</a></li>\n",
    "<li> Compute Accuracy Score </li>\n",
    "</ol>\n",
    "</pre>"
   ]
  },
  {
   "cell_type": "code",
   "execution_count": 8,
   "metadata": {
    "colab": {},
    "colab_type": "code",
    "id": "U2sKlq0YQvn5"
   },
   "outputs": [],
   "source": [
    "data_B = pd.read_csv(\"5_b.csv\")\n",
    "data_B[\"pred\"] = data_B[\"proba\"].apply(lambda x: 1 if x > 0.5 else 0)"
   ]
  },
  {
   "cell_type": "code",
   "execution_count": 9,
   "metadata": {},
   "outputs": [
    {
     "name": "stdout",
     "output_type": "stream",
     "text": [
      "Confusion Matrix:\n",
      "n = 10100 Predicted: 0 Predicted: 1\n",
      "Actual: 0     (tn)9761      (fp)239\n",
      "Actual: 1       (fn)45       (tp)55\n",
      "\n",
      "\n",
      "f1 score: 0.2791878172588833\n",
      "\n",
      "\n",
      "accuracy: 0.9718811881188119\n",
      "\n",
      "\n"
     ]
    },
    {
     "name": "stderr",
     "output_type": "stream",
     "text": [
      "100%|██████████| 10100/10100 [00:27<00:00, 363.22it/s]\n"
     ]
    },
    {
     "name": "stdout",
     "output_type": "stream",
     "text": [
      "auc score: 0.9376570000000001\n"
     ]
    },
    {
     "data": {
      "image/png": "[encoded data removed]",
      "text/plain": [
       "<Figure size 432x288 with 1 Axes>"
      ]
     },
     "metadata": {
      "needs_background": "light"
     },
     "output_type": "display_data"
    }
   ],
   "source": [
    "confusion_matrix_print(data_B)\n",
    "print(\"\\n\")\n",
    "print(\"f1 score:\",f1_score(data_B))\n",
    "print(\"\\n\")\n",
    "print(\"accuracy:\",accuracy_score(data_B))\n",
    "print(\"\\n\")\n",
    "print(\"auc score:\",auc_score(data_B))"
   ]
  },
  {
   "cell_type": "markdown",
   "metadata": {
    "colab_type": "text",
    "id": "GiPGonTzQvoB"
   },
   "source": [
    "<font color='red'><b>C.</b></font> Compute the best threshold (similarly to ROC curve computation) of probability which gives lowest values of metric <b>A</b> for the given data <strong>5_c.csv</strong>\n",
    "<br>\n",
    "\n",
    "you will be predicting label of a data points like this: $y^{pred}= \\text{[0 if y_score < threshold  else 1]}$\n",
    "\n",
    "$ A = 500 \\times \\text{number of false negative} + 100 \\times \\text{numebr of false positive}$\n",
    "\n",
    "<pre>\n",
    "   <b>Note 1:</b> in this data you can see number of negative points > number of positive points\n",
    "   <b>Note 2:</b> use pandas or numpy to read the data from <b>5_c.csv</b>\n",
    "</pre>"
   ]
  },
  {
   "cell_type": "code",
   "execution_count": 10,
   "metadata": {},
   "outputs": [],
   "source": [
    "data_C = pd.read_csv(\"5_c.csv\")\n",
    "data_C[\"pred\"] = data_C[\"prob\"].apply(lambda x: 1 if x > 0.5 else 0)"
   ]
  },
  {
   "cell_type": "code",
   "execution_count": 11,
   "metadata": {},
   "outputs": [
    {
     "name": "stderr",
     "output_type": "stream",
     "text": [
      "100%|██████████| 2791/2791 [00:06<00:00, 405.10it/s]\n"
     ]
    },
    {
     "name": "stdout",
     "output_type": "stream",
     "text": [
      "best threshold is : 0.22987164436159915\n"
     ]
    }
   ],
   "source": [
    "from tqdm import tqdm\n",
    "\n",
    "best_A = []\n",
    "\n",
    "def auc_score_C(data):\n",
    "\n",
    "    unique_proba_score = list(sorted(set(data[\"prob\"]), reverse = True))\n",
    "    tpr_list = []\n",
    "    fpr_list = []\n",
    "\n",
    "    for threshold in tqdm(range(len(unique_proba_score))):\n",
    "\n",
    "        #https://stackoverflow.com/a/10726275\n",
    "        data[\"pred\"] = np.where(data['prob'] <= unique_proba_score[threshold],0 , 1)\n",
    "        tp, tn, fp, fn = confusion_matrix(data)\n",
    "        data.drop(\"pred\", axis=1)\n",
    "        \n",
    "        A = 500 * fn + 100 * fp\n",
    "        best_A.append((A,unique_proba_score[threshold]))\n",
    "        \n",
    "        tpr = tp/(tp+fn)\n",
    "        fpr = fp/(fp+tn)\n",
    "        tpr_list.append(tpr)\n",
    "        fpr_list.append(fpr)\n",
    "\n",
    "    return np.trapz(tpr_list, fpr_list)\n",
    "\n",
    "auc_score_C(data_C)\n",
    "min_A = min(best_A)\n",
    "print(\"best threshold is :\", min_A[1])"
   ]
  },
  {
   "cell_type": "markdown",
   "metadata": {
    "colab_type": "text",
    "id": "sD4CcgjXQvoL"
   },
   "source": [
    "<pre>\n",
    "<font color='red'><b>D.</b></font> Compute performance metrics(for regression) for the given data <strong>5_d.csv</strong>\n",
    "    <b>Note 2:</b> use pandas or numpy to read the data from <b>5_d.csv</b>\n",
    "    <b>Note 1:</b> <b>5_d.csv</b> will having two columns Y and predicted_Y both are real valued features\n",
    "<ol>\n",
    "<li> Compute Mean Square Error </li>\n",
    "<li> Compute MAPE: https://www.youtube.com/watch?v=ly6ztgIkUxk</li>\n",
    "<li> Compute R^2 error: https://en.wikipedia.org/wiki/Coefficient_of_determination#Definitions </li>\n",
    "</ol>\n",
    "</pre>"
   ]
  },
  {
   "cell_type": "code",
   "execution_count": 12,
   "metadata": {},
   "outputs": [
    {
     "data": {
      "text/plain": [
       "(157200, 2)"
      ]
     },
     "execution_count": 12,
     "metadata": {},
     "output_type": "execute_result"
    }
   ],
   "source": [
    "data_D = pd.read_csv(\"5_d.csv\")\n",
    "data_D.shape"
   ]
  },
  {
   "cell_type": "code",
   "execution_count": 13,
   "metadata": {},
   "outputs": [],
   "source": [
    "def mean_square(data_D):\n",
    "    diff_1 = data_D[\"y\"] - data_D[\"pred\"]\n",
    "    diff_2 = (diff_1)**2\n",
    "    sum_ = diff_2.sum()\n",
    "    mse = (sum_ / diff_2.count())\n",
    "    return mse"
   ]
  },
  {
   "cell_type": "code",
   "execution_count": 14,
   "metadata": {},
   "outputs": [],
   "source": [
    "def mape(data_D):\n",
    "    diff_1 = data_D[\"pred\"] - data_D[\"y\"]\n",
    "    diff_2 = abs(diff_1)\n",
    "    diff_sum = diff_2.sum()\n",
    "    y_sum = data_D[\"y\"].sum()\n",
    "    mape = diff_sum / y_sum\n",
    "    return mape"
   ]
  },
  {
   "cell_type": "code",
   "execution_count": 15,
   "metadata": {},
   "outputs": [],
   "source": [
    "#https://stackoverflow.com/a/895063\n",
    "\n",
    "def r_square(data_D):\n",
    "    mean_y = np.sum(data_D[\"y\"])/len(data_D[\"y\"]) \n",
    "    ss_res_1 = np.subtract(data_D[\"y\"], data_D[\"pred\"])\n",
    "    ss_res_2 = np.square(ss_res_1)\n",
    "    ss_res_3 = np.sum(ss_res_2)\n",
    "    ss_tot_1 = np.subtract(data_D[\"y\"], mean_y)\n",
    "    ss_tot_2 = np.square(ss_tot_1)\n",
    "    ss_tot_3 = np.sum(ss_tot_2)\n",
    "    div = ss_res_3/ss_tot_3\n",
    "    sc = 1 - div\n",
    "    return sc"
   ]
  },
  {
   "cell_type": "code",
   "execution_count": 16,
   "metadata": {},
   "outputs": [
    {
     "name": "stdout",
     "output_type": "stream",
     "text": [
      "mean square error : 177.16569974554707\n",
      "MAPE : 0.1291202994009687\n",
      "R sq error: 0.9563582786990937\n"
     ]
    }
   ],
   "source": [
    "print(\"mean square error :\", mean_square(data_D))\n",
    "print(\"MAPE :\", mape(data_D))\n",
    "print(\"R sq error:\", r_square(data_D))"
   ]
  }
 ],
 "metadata": {
  "colab": {
   "collapsed_sections": [],
   "name": "5_Performance_metrics_Instructions.ipynb",
   "provenance": [],
   "version": "0.3.2"
  },
  "kernelspec": {
   "display_name": "Python 3",
   "language": "python",
   "name": "python3"
  },
  "language_info": {
   "codemirror_mode": {
    "name": "ipython",
    "version": 3
   },
   "file_extension": ".py",
   "mimetype": "text/x-python",
   "name": "python",
   "nbconvert_exporter": "python",
   "pygments_lexer": "ipython3",
   "version": "3.7.1"
  }
 },
 "nbformat": 4,
 "nbformat_minor": 1
}
